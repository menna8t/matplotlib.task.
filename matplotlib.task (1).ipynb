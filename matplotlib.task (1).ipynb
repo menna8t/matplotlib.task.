{
 "cells": [
  {
   "cell_type": "code",
   "execution_count": 1,
   "id": "3bf505d1-073e-47c4-9a4d-e5722e02ff0e",
   "metadata": {},
   "outputs": [
    {
     "name": "stdout",
     "output_type": "stream",
     "text": [
      "Requirement already satisfied: matPlotlib in c:\\users\\menna\\anaconda3\\lib\\site-packages (3.10.0)Note: you may need to restart the kernel to use updated packages.\n",
      "\n",
      "Requirement already satisfied: contourpy>=1.0.1 in c:\\users\\menna\\anaconda3\\lib\\site-packages (from matPlotlib) (1.3.1)\n",
      "Requirement already satisfied: cycler>=0.10 in c:\\users\\menna\\anaconda3\\lib\\site-packages (from matPlotlib) (0.11.0)\n",
      "Requirement already satisfied: fonttools>=4.22.0 in c:\\users\\menna\\anaconda3\\lib\\site-packages (from matPlotlib) (4.55.3)\n",
      "Requirement already satisfied: kiwisolver>=1.3.1 in c:\\users\\menna\\anaconda3\\lib\\site-packages (from matPlotlib) (1.4.8)\n",
      "Requirement already satisfied: numpy>=1.23 in c:\\users\\menna\\anaconda3\\lib\\site-packages (from matPlotlib) (2.1.3)\n",
      "Requirement already satisfied: packaging>=20.0 in c:\\users\\menna\\anaconda3\\lib\\site-packages (from matPlotlib) (24.2)\n",
      "Requirement already satisfied: pillow>=8 in c:\\users\\menna\\anaconda3\\lib\\site-packages (from matPlotlib) (11.1.0)\n",
      "Requirement already satisfied: pyparsing>=2.3.1 in c:\\users\\menna\\anaconda3\\lib\\site-packages (from matPlotlib) (3.2.0)\n",
      "Requirement already satisfied: python-dateutil>=2.7 in c:\\users\\menna\\anaconda3\\lib\\site-packages (from matPlotlib) (2.9.0.post0)\n",
      "Requirement already satisfied: six>=1.5 in c:\\users\\menna\\anaconda3\\lib\\site-packages (from python-dateutil>=2.7->matPlotlib) (1.17.0)\n"
     ]
    }
   ],
   "source": [
    "pip install matPlotlib"
   ]
  },
  {
   "cell_type": "code",
   "execution_count": 2,
   "id": "f0fc4d24-6dd3-41c4-8a20-0a996232279a",
   "metadata": {},
   "outputs": [
    {
     "name": "stdout",
     "output_type": "stream",
     "text": [
      "Requirement already satisfied: pandas in c:\\users\\menna\\anaconda3\\lib\\site-packages (2.2.3)\n",
      "Requirement already satisfied: numpy>=1.26.0 in c:\\users\\menna\\anaconda3\\lib\\site-packages (from pandas) (2.1.3)\n",
      "Requirement already satisfied: python-dateutil>=2.8.2 in c:\\users\\menna\\anaconda3\\lib\\site-packages (from pandas) (2.9.0.post0)\n",
      "Requirement already satisfied: pytz>=2020.1 in c:\\users\\menna\\anaconda3\\lib\\site-packages (from pandas) (2024.1)\n",
      "Requirement already satisfied: tzdata>=2022.7 in c:\\users\\menna\\anaconda3\\lib\\site-packages (from pandas) (2025.2)\n",
      "Requirement already satisfied: six>=1.5 in c:\\users\\menna\\anaconda3\\lib\\site-packages (from python-dateutil>=2.8.2->pandas) (1.17.0)\n",
      "Note: you may need to restart the kernel to use updated packages.\n"
     ]
    }
   ],
   "source": [
    "pip install pandas"
   ]
  },
  {
   "cell_type": "code",
   "execution_count": 3,
   "id": "7fe747ce-dc19-4ab8-a0c4-30b74e3f9443",
   "metadata": {},
   "outputs": [],
   "source": [
    "import matplotlib.pyplot as plt\n",
    "import pandas as pd"
   ]
  },
  {
   "cell_type": "code",
   "execution_count": 4,
   "id": "051ac777-0875-4ed3-ac7f-02c18390f150",
   "metadata": {},
   "outputs": [
    {
     "data": {
      "text/html": [
       "<div>\n",
       "<style scoped>\n",
       "    .dataframe tbody tr th:only-of-type {\n",
       "        vertical-align: middle;\n",
       "    }\n",
       "\n",
       "    .dataframe tbody tr th {\n",
       "        vertical-align: top;\n",
       "    }\n",
       "\n",
       "    .dataframe thead th {\n",
       "        text-align: right;\n",
       "    }\n",
       "</style>\n",
       "<table border=\"1\" class=\"dataframe\">\n",
       "  <thead>\n",
       "    <tr style=\"text-align: right;\">\n",
       "      <th></th>\n",
       "      <th>Temperature in Celisius</th>\n",
       "      <th>Days</th>\n",
       "    </tr>\n",
       "  </thead>\n",
       "  <tbody>\n",
       "    <tr>\n",
       "      <th>0</th>\n",
       "      <td>35</td>\n",
       "      <td>Day 1</td>\n",
       "    </tr>\n",
       "    <tr>\n",
       "      <th>1</th>\n",
       "      <td>34</td>\n",
       "      <td>Day 2</td>\n",
       "    </tr>\n",
       "    <tr>\n",
       "      <th>2</th>\n",
       "      <td>32</td>\n",
       "      <td>Day 3</td>\n",
       "    </tr>\n",
       "    <tr>\n",
       "      <th>3</th>\n",
       "      <td>35</td>\n",
       "      <td>Day 4</td>\n",
       "    </tr>\n",
       "    <tr>\n",
       "      <th>4</th>\n",
       "      <td>38</td>\n",
       "      <td>Day 5</td>\n",
       "    </tr>\n",
       "    <tr>\n",
       "      <th>5</th>\n",
       "      <td>36</td>\n",
       "      <td>Day 6</td>\n",
       "    </tr>\n",
       "    <tr>\n",
       "      <th>6</th>\n",
       "      <td>37</td>\n",
       "      <td>Day 7</td>\n",
       "    </tr>\n",
       "  </tbody>\n",
       "</table>\n",
       "</div>"
      ],
      "text/plain": [
       "   Temperature in Celisius   Days \n",
       "0                       35   Day 1\n",
       "1                       34   Day 2\n",
       "2                       32  Day 3 \n",
       "3                       35   Day 4\n",
       "4                       38   Day 5\n",
       "5                       36   Day 6\n",
       "6                       37   Day 7"
      ]
     },
     "execution_count": 4,
     "metadata": {},
     "output_type": "execute_result"
    }
   ],
   "source": [
    "df = pd.read_csv('Temperature.csv')\n",
    "df"
   ]
  },
  {
   "cell_type": "code",
   "execution_count": 15,
   "id": "68d855a9-8c36-44b5-9797-1125c4afe0f8",
   "metadata": {},
   "outputs": [
    {
     "name": "stdout",
     "output_type": "stream",
     "text": [
      "Index(['Temperature in Celisius', 'Days '], dtype='object')\n"
     ]
    },
    {
     "data": {
      "text/plain": [
       "0    35\n",
       "1    34\n",
       "2    32\n",
       "3    35\n",
       "4    38\n",
       "5    36\n",
       "6    37\n",
       "Name: Temperature in Celisius, dtype: int64"
      ]
     },
     "execution_count": 15,
     "metadata": {},
     "output_type": "execute_result"
    }
   ],
   "source": [
    "print(df.columns)\n",
    "Days = df[\"Days \"]\n",
    "Days \n",
    "Temperature = df[\"Temperature in Celisius\"]\n",
    "Temperature"
   ]
  },
  {
   "cell_type": "code",
   "execution_count": 16,
   "id": "7e9d5660-c7b9-4a70-ac6e-8cb49bafa8e7",
   "metadata": {},
   "outputs": [
    {
     "data": {
      "image/png": "[encoded data removed]",
      "text/plain": [
       "<Figure size 640x480 with 1 Axes>"
      ]
     },
     "metadata": {},
     "output_type": "display_data"
    }
   ],
   "source": [
    "plt.plot( Days , Temperature , marker = \"d\" , linestyle = \"-\" , color = \"m\" )\n",
    "plt.xticks(rotation= 45 )\n",
    "plt.title(\"Temperature  variation over a week\")\n",
    "plt.xlabel(\"Days\")\n",
    "plt.ylabel(\"Temperture\")\n",
    "plt.show()"
   ]
  },
  {
   "cell_type": "code",
   "execution_count": null,
   "id": "f15ebc1e-9a34-4be3-a1bb-d20def293975",
   "metadata": {},
   "outputs": [],
   "source": []
  }
 ],
 "metadata": {
  "kernelspec": {
   "display_name": "Python [conda env:base] *",
   "language": "python",
   "name": "conda-base-py"
  },
  "language_info": {
   "codemirror_mode": {
    "name": "ipython",
    "version": 3
   },
   "file_extension": ".py",
   "mimetype": "text/x-python",
   "name": "python",
   "nbconvert_exporter": "python",
   "pygments_lexer": "ipython3",
   "version": "3.13.5"
  }
 },
 "nbformat": 4,
 "nbformat_minor": 5
}
